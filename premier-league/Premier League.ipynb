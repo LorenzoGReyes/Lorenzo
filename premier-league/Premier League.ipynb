{
 "cells": [
  {
   "cell_type": "markdown",
   "metadata": {},
   "source": [
    "# Premier league data"
   ]
  },
  {
   "cell_type": "markdown",
   "metadata": {},
   "source": [
    "Data from https://www.kaggle.com/zaeemnalla/premier-league\n",
    "\n",
    "Just making some plots with seaborn.\n",
    "We begin by loading the datasets."
   ]
  },
  {
   "cell_type": "code",
   "execution_count": 1,
   "metadata": {},
   "outputs": [],
   "source": [
    "import pandas as pd\n",
    "import seaborn as sns\n",
    "\n",
    "pl = pd.read_csv(\"results.csv\")\n",
    "pl2 = pd.read_csv(\"stats.csv\")\n",
    "pd.options.mode.chained_assignment = None "
   ]
  },
  {
   "cell_type": "markdown",
   "metadata": {},
   "source": [
    "Let's see results.csv"
   ]
  },
  {
   "cell_type": "code",
   "execution_count": 2,
   "metadata": {},
   "outputs": [
    {
     "data": {
      "text/html": [
       "<div>\n",
       "<style scoped>\n",
       "    .dataframe tbody tr th:only-of-type {\n",
       "        vertical-align: middle;\n",
       "    }\n",
       "\n",
       "    .dataframe tbody tr th {\n",
       "        vertical-align: top;\n",
       "    }\n",
       "\n",
       "    .dataframe thead th {\n",
       "        text-align: right;\n",
       "    }\n",
       "</style>\n",
       "<table border=\"1\" class=\"dataframe\">\n",
       "  <thead>\n",
       "    <tr style=\"text-align: right;\">\n",
       "      <th></th>\n",
       "      <th>home_team</th>\n",
       "      <th>away_team</th>\n",
       "      <th>home_goals</th>\n",
       "      <th>away_goals</th>\n",
       "      <th>result</th>\n",
       "      <th>season</th>\n",
       "    </tr>\n",
       "  </thead>\n",
       "  <tbody>\n",
       "    <tr>\n",
       "      <th>0</th>\n",
       "      <td>Sheffield United</td>\n",
       "      <td>Liverpool</td>\n",
       "      <td>1.0</td>\n",
       "      <td>1.0</td>\n",
       "      <td>D</td>\n",
       "      <td>2006-2007</td>\n",
       "    </tr>\n",
       "    <tr>\n",
       "      <th>1</th>\n",
       "      <td>Arsenal</td>\n",
       "      <td>Aston Villa</td>\n",
       "      <td>1.0</td>\n",
       "      <td>1.0</td>\n",
       "      <td>D</td>\n",
       "      <td>2006-2007</td>\n",
       "    </tr>\n",
       "    <tr>\n",
       "      <th>2</th>\n",
       "      <td>Everton</td>\n",
       "      <td>Watford</td>\n",
       "      <td>2.0</td>\n",
       "      <td>1.0</td>\n",
       "      <td>H</td>\n",
       "      <td>2006-2007</td>\n",
       "    </tr>\n",
       "    <tr>\n",
       "      <th>3</th>\n",
       "      <td>Newcastle United</td>\n",
       "      <td>Wigan Athletic</td>\n",
       "      <td>2.0</td>\n",
       "      <td>1.0</td>\n",
       "      <td>H</td>\n",
       "      <td>2006-2007</td>\n",
       "    </tr>\n",
       "    <tr>\n",
       "      <th>4</th>\n",
       "      <td>Portsmouth</td>\n",
       "      <td>Blackburn Rovers</td>\n",
       "      <td>3.0</td>\n",
       "      <td>0.0</td>\n",
       "      <td>H</td>\n",
       "      <td>2006-2007</td>\n",
       "    </tr>\n",
       "  </tbody>\n",
       "</table>\n",
       "</div>"
      ],
      "text/plain": [
       "          home_team         away_team  home_goals  away_goals result  \\\n",
       "0  Sheffield United         Liverpool         1.0         1.0      D   \n",
       "1           Arsenal       Aston Villa         1.0         1.0      D   \n",
       "2           Everton           Watford         2.0         1.0      H   \n",
       "3  Newcastle United    Wigan Athletic         2.0         1.0      H   \n",
       "4        Portsmouth  Blackburn Rovers         3.0         0.0      H   \n",
       "\n",
       "      season  \n",
       "0  2006-2007  \n",
       "1  2006-2007  \n",
       "2  2006-2007  \n",
       "3  2006-2007  \n",
       "4  2006-2007  "
      ]
     },
     "execution_count": 2,
     "metadata": {},
     "output_type": "execute_result"
    }
   ],
   "source": [
    "pl.head()"
   ]
  },
  {
   "cell_type": "markdown",
   "metadata": {},
   "source": [
    "now stats.csv"
   ]
  },
  {
   "cell_type": "code",
   "execution_count": 3,
   "metadata": {},
   "outputs": [
    {
     "data": {
      "text/html": [
       "<div>\n",
       "<style scoped>\n",
       "    .dataframe tbody tr th:only-of-type {\n",
       "        vertical-align: middle;\n",
       "    }\n",
       "\n",
       "    .dataframe tbody tr th {\n",
       "        vertical-align: top;\n",
       "    }\n",
       "\n",
       "    .dataframe thead th {\n",
       "        text-align: right;\n",
       "    }\n",
       "</style>\n",
       "<table border=\"1\" class=\"dataframe\">\n",
       "  <thead>\n",
       "    <tr style=\"text-align: right;\">\n",
       "      <th></th>\n",
       "      <th>team</th>\n",
       "      <th>wins</th>\n",
       "      <th>losses</th>\n",
       "      <th>goals</th>\n",
       "      <th>total_yel_card</th>\n",
       "      <th>total_red_card</th>\n",
       "      <th>total_scoring_att</th>\n",
       "      <th>ontarget_scoring_att</th>\n",
       "      <th>hit_woodwork</th>\n",
       "      <th>att_hd_goal</th>\n",
       "      <th>...</th>\n",
       "      <th>total_cross</th>\n",
       "      <th>corner_taken</th>\n",
       "      <th>touches</th>\n",
       "      <th>big_chance_missed</th>\n",
       "      <th>clearance_off_line</th>\n",
       "      <th>dispossessed</th>\n",
       "      <th>penalty_save</th>\n",
       "      <th>total_high_claim</th>\n",
       "      <th>punches</th>\n",
       "      <th>season</th>\n",
       "    </tr>\n",
       "  </thead>\n",
       "  <tbody>\n",
       "    <tr>\n",
       "      <th>0</th>\n",
       "      <td>Manchester United</td>\n",
       "      <td>28.0</td>\n",
       "      <td>5.0</td>\n",
       "      <td>83.0</td>\n",
       "      <td>60.0</td>\n",
       "      <td>1.0</td>\n",
       "      <td>698.0</td>\n",
       "      <td>256.0</td>\n",
       "      <td>21.0</td>\n",
       "      <td>12.0</td>\n",
       "      <td>...</td>\n",
       "      <td>918.0</td>\n",
       "      <td>258.0</td>\n",
       "      <td>25686.0</td>\n",
       "      <td>NaN</td>\n",
       "      <td>1.0</td>\n",
       "      <td>NaN</td>\n",
       "      <td>2.0</td>\n",
       "      <td>37.0</td>\n",
       "      <td>25.0</td>\n",
       "      <td>2006-2007</td>\n",
       "    </tr>\n",
       "    <tr>\n",
       "      <th>1</th>\n",
       "      <td>Chelsea</td>\n",
       "      <td>24.0</td>\n",
       "      <td>3.0</td>\n",
       "      <td>64.0</td>\n",
       "      <td>62.0</td>\n",
       "      <td>4.0</td>\n",
       "      <td>636.0</td>\n",
       "      <td>216.0</td>\n",
       "      <td>14.0</td>\n",
       "      <td>16.0</td>\n",
       "      <td>...</td>\n",
       "      <td>897.0</td>\n",
       "      <td>231.0</td>\n",
       "      <td>24010.0</td>\n",
       "      <td>NaN</td>\n",
       "      <td>2.0</td>\n",
       "      <td>NaN</td>\n",
       "      <td>1.0</td>\n",
       "      <td>74.0</td>\n",
       "      <td>22.0</td>\n",
       "      <td>2006-2007</td>\n",
       "    </tr>\n",
       "    <tr>\n",
       "      <th>2</th>\n",
       "      <td>Liverpool</td>\n",
       "      <td>20.0</td>\n",
       "      <td>10.0</td>\n",
       "      <td>57.0</td>\n",
       "      <td>44.0</td>\n",
       "      <td>0.0</td>\n",
       "      <td>668.0</td>\n",
       "      <td>214.0</td>\n",
       "      <td>15.0</td>\n",
       "      <td>8.0</td>\n",
       "      <td>...</td>\n",
       "      <td>1107.0</td>\n",
       "      <td>282.0</td>\n",
       "      <td>24150.0</td>\n",
       "      <td>NaN</td>\n",
       "      <td>1.0</td>\n",
       "      <td>NaN</td>\n",
       "      <td>0.0</td>\n",
       "      <td>51.0</td>\n",
       "      <td>27.0</td>\n",
       "      <td>2006-2007</td>\n",
       "    </tr>\n",
       "    <tr>\n",
       "      <th>3</th>\n",
       "      <td>Arsenal</td>\n",
       "      <td>19.0</td>\n",
       "      <td>8.0</td>\n",
       "      <td>63.0</td>\n",
       "      <td>59.0</td>\n",
       "      <td>3.0</td>\n",
       "      <td>638.0</td>\n",
       "      <td>226.0</td>\n",
       "      <td>19.0</td>\n",
       "      <td>10.0</td>\n",
       "      <td>...</td>\n",
       "      <td>873.0</td>\n",
       "      <td>278.0</td>\n",
       "      <td>25592.0</td>\n",
       "      <td>NaN</td>\n",
       "      <td>1.0</td>\n",
       "      <td>NaN</td>\n",
       "      <td>0.0</td>\n",
       "      <td>88.0</td>\n",
       "      <td>27.0</td>\n",
       "      <td>2006-2007</td>\n",
       "    </tr>\n",
       "    <tr>\n",
       "      <th>4</th>\n",
       "      <td>Tottenham Hotspur</td>\n",
       "      <td>17.0</td>\n",
       "      <td>12.0</td>\n",
       "      <td>57.0</td>\n",
       "      <td>48.0</td>\n",
       "      <td>3.0</td>\n",
       "      <td>520.0</td>\n",
       "      <td>184.0</td>\n",
       "      <td>6.0</td>\n",
       "      <td>5.0</td>\n",
       "      <td>...</td>\n",
       "      <td>796.0</td>\n",
       "      <td>181.0</td>\n",
       "      <td>22200.0</td>\n",
       "      <td>NaN</td>\n",
       "      <td>2.0</td>\n",
       "      <td>NaN</td>\n",
       "      <td>0.0</td>\n",
       "      <td>51.0</td>\n",
       "      <td>24.0</td>\n",
       "      <td>2006-2007</td>\n",
       "    </tr>\n",
       "  </tbody>\n",
       "</table>\n",
       "<p>5 rows × 42 columns</p>\n",
       "</div>"
      ],
      "text/plain": [
       "                team  wins  losses  goals  total_yel_card  total_red_card  \\\n",
       "0  Manchester United  28.0     5.0   83.0            60.0             1.0   \n",
       "1            Chelsea  24.0     3.0   64.0            62.0             4.0   \n",
       "2          Liverpool  20.0    10.0   57.0            44.0             0.0   \n",
       "3            Arsenal  19.0     8.0   63.0            59.0             3.0   \n",
       "4  Tottenham Hotspur  17.0    12.0   57.0            48.0             3.0   \n",
       "\n",
       "   total_scoring_att  ontarget_scoring_att  hit_woodwork  att_hd_goal  ...  \\\n",
       "0              698.0                 256.0          21.0         12.0  ...   \n",
       "1              636.0                 216.0          14.0         16.0  ...   \n",
       "2              668.0                 214.0          15.0          8.0  ...   \n",
       "3              638.0                 226.0          19.0         10.0  ...   \n",
       "4              520.0                 184.0           6.0          5.0  ...   \n",
       "\n",
       "   total_cross  corner_taken  touches  big_chance_missed  clearance_off_line  \\\n",
       "0        918.0         258.0  25686.0                NaN                 1.0   \n",
       "1        897.0         231.0  24010.0                NaN                 2.0   \n",
       "2       1107.0         282.0  24150.0                NaN                 1.0   \n",
       "3        873.0         278.0  25592.0                NaN                 1.0   \n",
       "4        796.0         181.0  22200.0                NaN                 2.0   \n",
       "\n",
       "   dispossessed  penalty_save  total_high_claim  punches     season  \n",
       "0           NaN           2.0              37.0     25.0  2006-2007  \n",
       "1           NaN           1.0              74.0     22.0  2006-2007  \n",
       "2           NaN           0.0              51.0     27.0  2006-2007  \n",
       "3           NaN           0.0              88.0     27.0  2006-2007  \n",
       "4           NaN           0.0              51.0     24.0  2006-2007  \n",
       "\n",
       "[5 rows x 42 columns]"
      ]
     },
     "execution_count": 3,
     "metadata": {},
     "output_type": "execute_result"
    }
   ],
   "source": [
    "pl2.head()"
   ]
  },
  {
   "cell_type": "markdown",
   "metadata": {},
   "source": [
    "Let's separate the draws from the rest of the results"
   ]
  },
  {
   "cell_type": "code",
   "execution_count": 4,
   "metadata": {},
   "outputs": [
    {
     "data": {
      "text/html": [
       "<div>\n",
       "<style scoped>\n",
       "    .dataframe tbody tr th:only-of-type {\n",
       "        vertical-align: middle;\n",
       "    }\n",
       "\n",
       "    .dataframe tbody tr th {\n",
       "        vertical-align: top;\n",
       "    }\n",
       "\n",
       "    .dataframe thead th {\n",
       "        text-align: right;\n",
       "    }\n",
       "</style>\n",
       "<table border=\"1\" class=\"dataframe\">\n",
       "  <thead>\n",
       "    <tr style=\"text-align: right;\">\n",
       "      <th></th>\n",
       "      <th>home_team</th>\n",
       "      <th>away_team</th>\n",
       "      <th>home_goals</th>\n",
       "      <th>away_goals</th>\n",
       "      <th>result</th>\n",
       "      <th>season</th>\n",
       "    </tr>\n",
       "  </thead>\n",
       "  <tbody>\n",
       "    <tr>\n",
       "      <th>0</th>\n",
       "      <td>Sheffield United</td>\n",
       "      <td>Liverpool</td>\n",
       "      <td>1.0</td>\n",
       "      <td>1.0</td>\n",
       "      <td>D</td>\n",
       "      <td>2006-2007</td>\n",
       "    </tr>\n",
       "    <tr>\n",
       "      <th>1</th>\n",
       "      <td>Arsenal</td>\n",
       "      <td>Aston Villa</td>\n",
       "      <td>1.0</td>\n",
       "      <td>1.0</td>\n",
       "      <td>D</td>\n",
       "      <td>2006-2007</td>\n",
       "    </tr>\n",
       "    <tr>\n",
       "      <th>10</th>\n",
       "      <td>Watford</td>\n",
       "      <td>West Ham United</td>\n",
       "      <td>1.0</td>\n",
       "      <td>1.0</td>\n",
       "      <td>D</td>\n",
       "      <td>2006-2007</td>\n",
       "    </tr>\n",
       "    <tr>\n",
       "      <th>13</th>\n",
       "      <td>Manchester City</td>\n",
       "      <td>Portsmouth</td>\n",
       "      <td>0.0</td>\n",
       "      <td>0.0</td>\n",
       "      <td>D</td>\n",
       "      <td>2006-2007</td>\n",
       "    </tr>\n",
       "    <tr>\n",
       "      <th>14</th>\n",
       "      <td>Blackburn Rovers</td>\n",
       "      <td>Everton</td>\n",
       "      <td>1.0</td>\n",
       "      <td>1.0</td>\n",
       "      <td>D</td>\n",
       "      <td>2006-2007</td>\n",
       "    </tr>\n",
       "    <tr>\n",
       "      <th>...</th>\n",
       "      <td>...</td>\n",
       "      <td>...</td>\n",
       "      <td>...</td>\n",
       "      <td>...</td>\n",
       "      <td>...</td>\n",
       "      <td>...</td>\n",
       "    </tr>\n",
       "    <tr>\n",
       "      <th>4525</th>\n",
       "      <td>Burnley</td>\n",
       "      <td>Brighton and Hove Albion</td>\n",
       "      <td>0.0</td>\n",
       "      <td>0.0</td>\n",
       "      <td>D</td>\n",
       "      <td>2017-2018</td>\n",
       "    </tr>\n",
       "    <tr>\n",
       "      <th>4540</th>\n",
       "      <td>Everton</td>\n",
       "      <td>Southampton</td>\n",
       "      <td>1.0</td>\n",
       "      <td>1.0</td>\n",
       "      <td>D</td>\n",
       "      <td>2017-2018</td>\n",
       "    </tr>\n",
       "    <tr>\n",
       "      <th>4541</th>\n",
       "      <td>Manchester City</td>\n",
       "      <td>Huddersfield Town</td>\n",
       "      <td>0.0</td>\n",
       "      <td>0.0</td>\n",
       "      <td>D</td>\n",
       "      <td>2017-2018</td>\n",
       "    </tr>\n",
       "    <tr>\n",
       "      <th>4545</th>\n",
       "      <td>Chelsea</td>\n",
       "      <td>Huddersfield Town</td>\n",
       "      <td>1.0</td>\n",
       "      <td>1.0</td>\n",
       "      <td>D</td>\n",
       "      <td>2017-2018</td>\n",
       "    </tr>\n",
       "    <tr>\n",
       "      <th>4549</th>\n",
       "      <td>West Ham United</td>\n",
       "      <td>Manchester United</td>\n",
       "      <td>0.0</td>\n",
       "      <td>0.0</td>\n",
       "      <td>D</td>\n",
       "      <td>2017-2018</td>\n",
       "    </tr>\n",
       "  </tbody>\n",
       "</table>\n",
       "<p>1164 rows × 6 columns</p>\n",
       "</div>"
      ],
      "text/plain": [
       "             home_team                 away_team  home_goals  away_goals  \\\n",
       "0     Sheffield United                 Liverpool         1.0         1.0   \n",
       "1              Arsenal               Aston Villa         1.0         1.0   \n",
       "10             Watford           West Ham United         1.0         1.0   \n",
       "13     Manchester City                Portsmouth         0.0         0.0   \n",
       "14    Blackburn Rovers                   Everton         1.0         1.0   \n",
       "...                ...                       ...         ...         ...   \n",
       "4525           Burnley  Brighton and Hove Albion         0.0         0.0   \n",
       "4540           Everton               Southampton         1.0         1.0   \n",
       "4541   Manchester City         Huddersfield Town         0.0         0.0   \n",
       "4545           Chelsea         Huddersfield Town         1.0         1.0   \n",
       "4549   West Ham United         Manchester United         0.0         0.0   \n",
       "\n",
       "     result     season  \n",
       "0         D  2006-2007  \n",
       "1         D  2006-2007  \n",
       "10        D  2006-2007  \n",
       "13        D  2006-2007  \n",
       "14        D  2006-2007  \n",
       "...     ...        ...  \n",
       "4525      D  2017-2018  \n",
       "4540      D  2017-2018  \n",
       "4541      D  2017-2018  \n",
       "4545      D  2017-2018  \n",
       "4549      D  2017-2018  \n",
       "\n",
       "[1164 rows x 6 columns]"
      ]
     },
     "execution_count": 4,
     "metadata": {},
     "output_type": "execute_result"
    }
   ],
   "source": [
    "pl_draws = pl[pl[\"result\"] == \"D\"]\n",
    "pl_draws"
   ]
  },
  {
   "cell_type": "markdown",
   "metadata": {},
   "source": [
    "We don't need the columns home_goals and away_goals when we're interested only in draws"
   ]
  },
  {
   "cell_type": "code",
   "execution_count": 5,
   "metadata": {},
   "outputs": [],
   "source": [
    "del pl_draws[\"away_goals\"]"
   ]
  },
  {
   "cell_type": "code",
   "execution_count": 6,
   "metadata": {},
   "outputs": [
    {
     "data": {
      "text/html": [
       "<div>\n",
       "<style scoped>\n",
       "    .dataframe tbody tr th:only-of-type {\n",
       "        vertical-align: middle;\n",
       "    }\n",
       "\n",
       "    .dataframe tbody tr th {\n",
       "        vertical-align: top;\n",
       "    }\n",
       "\n",
       "    .dataframe thead th {\n",
       "        text-align: right;\n",
       "    }\n",
       "</style>\n",
       "<table border=\"1\" class=\"dataframe\">\n",
       "  <thead>\n",
       "    <tr style=\"text-align: right;\">\n",
       "      <th></th>\n",
       "      <th>home_team</th>\n",
       "      <th>away_team</th>\n",
       "      <th>home_goals</th>\n",
       "      <th>result</th>\n",
       "      <th>season</th>\n",
       "    </tr>\n",
       "  </thead>\n",
       "  <tbody>\n",
       "    <tr>\n",
       "      <th>0</th>\n",
       "      <td>Sheffield United</td>\n",
       "      <td>Liverpool</td>\n",
       "      <td>1.0</td>\n",
       "      <td>D</td>\n",
       "      <td>2006-2007</td>\n",
       "    </tr>\n",
       "    <tr>\n",
       "      <th>1</th>\n",
       "      <td>Arsenal</td>\n",
       "      <td>Aston Villa</td>\n",
       "      <td>1.0</td>\n",
       "      <td>D</td>\n",
       "      <td>2006-2007</td>\n",
       "    </tr>\n",
       "    <tr>\n",
       "      <th>10</th>\n",
       "      <td>Watford</td>\n",
       "      <td>West Ham United</td>\n",
       "      <td>1.0</td>\n",
       "      <td>D</td>\n",
       "      <td>2006-2007</td>\n",
       "    </tr>\n",
       "    <tr>\n",
       "      <th>13</th>\n",
       "      <td>Manchester City</td>\n",
       "      <td>Portsmouth</td>\n",
       "      <td>0.0</td>\n",
       "      <td>D</td>\n",
       "      <td>2006-2007</td>\n",
       "    </tr>\n",
       "    <tr>\n",
       "      <th>14</th>\n",
       "      <td>Blackburn Rovers</td>\n",
       "      <td>Everton</td>\n",
       "      <td>1.0</td>\n",
       "      <td>D</td>\n",
       "      <td>2006-2007</td>\n",
       "    </tr>\n",
       "    <tr>\n",
       "      <th>...</th>\n",
       "      <td>...</td>\n",
       "      <td>...</td>\n",
       "      <td>...</td>\n",
       "      <td>...</td>\n",
       "      <td>...</td>\n",
       "    </tr>\n",
       "    <tr>\n",
       "      <th>4525</th>\n",
       "      <td>Burnley</td>\n",
       "      <td>Brighton and Hove Albion</td>\n",
       "      <td>0.0</td>\n",
       "      <td>D</td>\n",
       "      <td>2017-2018</td>\n",
       "    </tr>\n",
       "    <tr>\n",
       "      <th>4540</th>\n",
       "      <td>Everton</td>\n",
       "      <td>Southampton</td>\n",
       "      <td>1.0</td>\n",
       "      <td>D</td>\n",
       "      <td>2017-2018</td>\n",
       "    </tr>\n",
       "    <tr>\n",
       "      <th>4541</th>\n",
       "      <td>Manchester City</td>\n",
       "      <td>Huddersfield Town</td>\n",
       "      <td>0.0</td>\n",
       "      <td>D</td>\n",
       "      <td>2017-2018</td>\n",
       "    </tr>\n",
       "    <tr>\n",
       "      <th>4545</th>\n",
       "      <td>Chelsea</td>\n",
       "      <td>Huddersfield Town</td>\n",
       "      <td>1.0</td>\n",
       "      <td>D</td>\n",
       "      <td>2017-2018</td>\n",
       "    </tr>\n",
       "    <tr>\n",
       "      <th>4549</th>\n",
       "      <td>West Ham United</td>\n",
       "      <td>Manchester United</td>\n",
       "      <td>0.0</td>\n",
       "      <td>D</td>\n",
       "      <td>2017-2018</td>\n",
       "    </tr>\n",
       "  </tbody>\n",
       "</table>\n",
       "<p>1164 rows × 5 columns</p>\n",
       "</div>"
      ],
      "text/plain": [
       "             home_team                 away_team  home_goals result     season\n",
       "0     Sheffield United                 Liverpool         1.0      D  2006-2007\n",
       "1              Arsenal               Aston Villa         1.0      D  2006-2007\n",
       "10             Watford           West Ham United         1.0      D  2006-2007\n",
       "13     Manchester City                Portsmouth         0.0      D  2006-2007\n",
       "14    Blackburn Rovers                   Everton         1.0      D  2006-2007\n",
       "...                ...                       ...         ...    ...        ...\n",
       "4525           Burnley  Brighton and Hove Albion         0.0      D  2017-2018\n",
       "4540           Everton               Southampton         1.0      D  2017-2018\n",
       "4541   Manchester City         Huddersfield Town         0.0      D  2017-2018\n",
       "4545           Chelsea         Huddersfield Town         1.0      D  2017-2018\n",
       "4549   West Ham United         Manchester United         0.0      D  2017-2018\n",
       "\n",
       "[1164 rows x 5 columns]"
      ]
     },
     "execution_count": 6,
     "metadata": {},
     "output_type": "execute_result"
    }
   ],
   "source": [
    "pl_draws"
   ]
  },
  {
   "cell_type": "markdown",
   "metadata": {},
   "source": [
    "And now we plot"
   ]
  },
  {
   "cell_type": "code",
   "execution_count": 7,
   "metadata": {},
   "outputs": [
    {
     "data": {
      "image/png": "[encoded data removed]",
      "text/plain": [
       "<Figure size 432x288 with 1 Axes>"
      ]
     },
     "metadata": {
      "needs_background": "light"
     },
     "output_type": "display_data"
    }
   ],
   "source": [
    "ax = sns.countplot(x = pl_draws[\"season\"], data = pl_draws, palette = sns.color_palette(\"hls\", 8))\n",
    "ax.set_title(\"Draws per season\")\n",
    "ax.set_xticklabels(ax.get_xticklabels(), rotation=90)\n",
    "_ = ax.set_xticklabels(ax.get_xticklabels(), rotation=90)"
   ]
  },
  {
   "cell_type": "code",
   "execution_count": 8,
   "metadata": {},
   "outputs": [
    {
     "data": {
      "image/png": "[encoded data removed]",
      "text/plain": [
       "<Figure size 432x288 with 1 Axes>"
      ]
     },
     "metadata": {
      "needs_background": "light"
     },
     "output_type": "display_data"
    }
   ],
   "source": [
    "ax = sns.countplot(x = pl_draws[\"home_goals\"], data = pl_draws, palette = sns.hls_palette(8, l=.3, s=.8))\n",
    "ax.set_title(\"Draws score\")\n",
    "ax.set_xticklabels(ax.get_xticklabels(), rotation=0)\n",
    "_ = ax.set_xticklabels(ax.get_xticklabels(), rotation=0)"
   ]
  },
  {
   "cell_type": "code",
   "execution_count": 9,
   "metadata": {},
   "outputs": [
    {
     "data": {
      "text/plain": [
       "1.0"
      ]
     },
     "execution_count": 9,
     "metadata": {},
     "output_type": "execute_result"
    }
   ],
   "source": [
    "min(pl2[\"wins\"])"
   ]
  },
  {
   "cell_type": "code",
   "execution_count": 10,
   "metadata": {},
   "outputs": [
    {
     "data": {
      "text/html": [
       "<div>\n",
       "<style scoped>\n",
       "    .dataframe tbody tr th:only-of-type {\n",
       "        vertical-align: middle;\n",
       "    }\n",
       "\n",
       "    .dataframe tbody tr th {\n",
       "        vertical-align: top;\n",
       "    }\n",
       "\n",
       "    .dataframe thead th {\n",
       "        text-align: right;\n",
       "    }\n",
       "</style>\n",
       "<table border=\"1\" class=\"dataframe\">\n",
       "  <thead>\n",
       "    <tr style=\"text-align: right;\">\n",
       "      <th></th>\n",
       "      <th>team</th>\n",
       "      <th>wins</th>\n",
       "      <th>losses</th>\n",
       "      <th>goals</th>\n",
       "      <th>total_yel_card</th>\n",
       "      <th>total_red_card</th>\n",
       "      <th>total_scoring_att</th>\n",
       "      <th>ontarget_scoring_att</th>\n",
       "      <th>hit_woodwork</th>\n",
       "      <th>att_hd_goal</th>\n",
       "      <th>...</th>\n",
       "      <th>total_cross</th>\n",
       "      <th>corner_taken</th>\n",
       "      <th>touches</th>\n",
       "      <th>big_chance_missed</th>\n",
       "      <th>clearance_off_line</th>\n",
       "      <th>dispossessed</th>\n",
       "      <th>penalty_save</th>\n",
       "      <th>total_high_claim</th>\n",
       "      <th>punches</th>\n",
       "      <th>season</th>\n",
       "    </tr>\n",
       "  </thead>\n",
       "  <tbody>\n",
       "    <tr>\n",
       "      <th>39</th>\n",
       "      <td>Derby County</td>\n",
       "      <td>1.0</td>\n",
       "      <td>29.0</td>\n",
       "      <td>20.0</td>\n",
       "      <td>63.0</td>\n",
       "      <td>1.0</td>\n",
       "      <td>376.0</td>\n",
       "      <td>116.0</td>\n",
       "      <td>7.0</td>\n",
       "      <td>3.0</td>\n",
       "      <td>...</td>\n",
       "      <td>804.0</td>\n",
       "      <td>158.0</td>\n",
       "      <td>20140.0</td>\n",
       "      <td>NaN</td>\n",
       "      <td>5.0</td>\n",
       "      <td>464.0</td>\n",
       "      <td>0.0</td>\n",
       "      <td>68.0</td>\n",
       "      <td>24.0</td>\n",
       "      <td>2007-2008</td>\n",
       "    </tr>\n",
       "  </tbody>\n",
       "</table>\n",
       "<p>1 rows × 42 columns</p>\n",
       "</div>"
      ],
      "text/plain": [
       "            team  wins  losses  goals  total_yel_card  total_red_card  \\\n",
       "39  Derby County   1.0    29.0   20.0            63.0             1.0   \n",
       "\n",
       "    total_scoring_att  ontarget_scoring_att  hit_woodwork  att_hd_goal  ...  \\\n",
       "39              376.0                 116.0           7.0          3.0  ...   \n",
       "\n",
       "    total_cross  corner_taken  touches  big_chance_missed  clearance_off_line  \\\n",
       "39        804.0         158.0  20140.0                NaN                 5.0   \n",
       "\n",
       "    dispossessed  penalty_save  total_high_claim  punches     season  \n",
       "39         464.0           0.0              68.0     24.0  2007-2008  \n",
       "\n",
       "[1 rows x 42 columns]"
      ]
     },
     "execution_count": 10,
     "metadata": {},
     "output_type": "execute_result"
    }
   ],
   "source": [
    "pl2.loc[pl2[\"wins\"] == 1]"
   ]
  },
  {
   "cell_type": "markdown",
   "metadata": {},
   "source": [
    "Derby County's 2007-2008 team is knowkn as the worst Premier League team of all time"
   ]
  },
  {
   "cell_type": "markdown",
   "metadata": {},
   "source": [
    "# Now we check the 6 biggest teams in England"
   ]
  },
  {
   "cell_type": "code",
   "execution_count": 11,
   "metadata": {},
   "outputs": [],
   "source": [
    "ars = pl2[pl2[\"team\"] == \"Arsenal\"]\n",
    "che = pl2[pl2[\"team\"] == \"Chelsea\"]\n",
    "mc = pl2[pl2[\"team\"] == \"Manchester City\"]\n",
    "mu = pl2[pl2[\"team\"] == \"Manchester United\"]\n",
    "tot = pl2[pl2[\"team\"] == \"Tottenham Hotspur\"]\n",
    "liv = pl2[pl2[\"team\"] == \"Liverpool\"]"
   ]
  },
  {
   "cell_type": "code",
   "execution_count": 12,
   "metadata": {},
   "outputs": [
    {
     "data": {
      "image/png": "[encoded data removed]",
      "text/plain": [
       "<Figure size 432x288 with 1 Axes>"
      ]
     },
     "metadata": {
      "needs_background": "light"
     },
     "output_type": "display_data"
    }
   ],
   "source": [
    "ars_w = sns.barplot(x = ars[\"season\"], y = ars[\"wins\"], data = pl2, palette = sns.dark_palette(\"red\"))\n",
    "ars_w.set_title(\"Arsenal wins per season\")\n",
    "ars_w.set_xticklabels(ars_w.get_xticklabels(), rotation=90)\n",
    "_ = ars_w.set_xticklabels(ars_w.get_xticklabels(), rotation=90)"
   ]
  },
  {
   "cell_type": "code",
   "execution_count": 13,
   "metadata": {},
   "outputs": [
    {
     "data": {
      "image/png": "[encoded data removed]",
      "text/plain": [
       "<Figure size 432x288 with 1 Axes>"
      ]
     },
     "metadata": {
      "needs_background": "light"
     },
     "output_type": "display_data"
    }
   ],
   "source": [
    "ars_l = sns.barplot(x = ars[\"season\"], y = ars[\"losses\"], data = pl2, palette = sns.dark_palette(\"red\"))\n",
    "ars_l.set_title(\"Arsenal losses per season\")\n",
    "ars_l.set_xticklabels(ars_l.get_xticklabels(), rotation=90)\n",
    "_ = ars_l.set_xticklabels(ars_l.get_xticklabels(), rotation=90)"
   ]
  },
  {
   "cell_type": "code",
   "execution_count": 14,
   "metadata": {},
   "outputs": [
    {
     "data": {
      "image/png": "[encoded data removed]",
      "text/plain": [
       "<Figure size 432x288 with 1 Axes>"
      ]
     },
     "metadata": {
      "needs_background": "light"
     },
     "output_type": "display_data"
    }
   ],
   "source": [
    "che_w = sns.barplot(x = che[\"season\"], y = che[\"wins\"], data = pl2, palette = sns.dark_palette(\"blue\"))\n",
    "che_w.set_title(\"Chelsea wins per season\")\n",
    "che_w.set_xticklabels(che_w.get_xticklabels(), rotation=90)\n",
    "_ = che_w.set_xticklabels(che_w.get_xticklabels(), rotation=90)"
   ]
  },
  {
   "cell_type": "code",
   "execution_count": 15,
   "metadata": {},
   "outputs": [
    {
     "data": {
      "image/png": "[encoded data removed]",
      "text/plain": [
       "<Figure size 432x288 with 1 Axes>"
      ]
     },
     "metadata": {
      "needs_background": "light"
     },
     "output_type": "display_data"
    }
   ],
   "source": [
    "che_l = sns.barplot(x = che[\"season\"], y = che[\"losses\"], data = pl2, palette = sns.dark_palette(\"blue\"))\n",
    "che_l.set_title(\"Chelsea losses per season\")\n",
    "che_l.set_xticklabels(che_l.get_xticklabels(), rotation=90)\n",
    "_ = che_l.set_xticklabels(che_w.get_xticklabels(), rotation=90)"
   ]
  },
  {
   "cell_type": "code",
   "execution_count": 16,
   "metadata": {},
   "outputs": [
    {
     "data": {
      "image/png": "[encoded data removed]",
      "text/plain": [
       "<Figure size 432x288 with 1 Axes>"
      ]
     },
     "metadata": {
      "needs_background": "light"
     },
     "output_type": "display_data"
    }
   ],
   "source": [
    "mc_w = sns.barplot(x = mc[\"season\"], y = mc[\"wins\"], data = pl2, palette = sns.light_palette(\"blue\"))\n",
    "mc_w.set_title(\"Manchester City losses per season\")\n",
    "mc_w.set_xticklabels(mc_w.get_xticklabels(), rotation=90)\n",
    "_ = mc_w.set_xticklabels(mc_w.get_xticklabels(), rotation=90)"
   ]
  },
  {
   "cell_type": "code",
   "execution_count": 17,
   "metadata": {},
   "outputs": [
    {
     "data": {
      "image/png": "[encoded data removed]",
      "text/plain": [
       "<Figure size 432x288 with 1 Axes>"
      ]
     },
     "metadata": {
      "needs_background": "light"
     },
     "output_type": "display_data"
    }
   ],
   "source": [
    "mc_l = sns.barplot(x = mc[\"season\"], y = mc[\"losses\"], data = pl2,palette = sns.light_palette(\"blue\"))\n",
    "mc_l.set_title(\"Manchester City losses per season\")\n",
    "mc_l.set_xticklabels(mc_l.get_xticklabels(), rotation=90)\n",
    "_ = mc_l.set_xticklabels(mc_l.get_xticklabels(), rotation=90)"
   ]
  },
  {
   "cell_type": "code",
   "execution_count": 18,
   "metadata": {},
   "outputs": [
    {
     "data": {
      "image/png": "[encoded data removed]",
      "text/plain": [
       "<Figure size 432x288 with 1 Axes>"
      ]
     },
     "metadata": {
      "needs_background": "light"
     },
     "output_type": "display_data"
    }
   ],
   "source": [
    "mu_w = sns.barplot(x = mu[\"season\"], y = mu[\"wins\"], data = pl2, palette = sns.light_palette(\"red\"))\n",
    "mu_w.set_title(\"Manchester United wins per season\")\n",
    "mu_w.set_xticklabels(mu_w.get_xticklabels(), rotation=90)\n",
    "_ = mu_w.set_xticklabels(mu_w.get_xticklabels(), rotation=90)"
   ]
  },
  {
   "cell_type": "code",
   "execution_count": 19,
   "metadata": {},
   "outputs": [
    {
     "data": {
      "image/png": "[encoded data removed]",
      "text/plain": [
       "<Figure size 432x288 with 1 Axes>"
      ]
     },
     "metadata": {
      "needs_background": "light"
     },
     "output_type": "display_data"
    }
   ],
   "source": [
    "mu_l = sns.barplot(x = mu[\"season\"], y = mu[\"losses\"], data = pl2, palette = sns.light_palette(\"red\"))\n",
    "mu_l.set_title(\"Manchester United losses per season\")\n",
    "mu_l.set_xticklabels(mu_l.get_xticklabels(), rotation=90)\n",
    "_ = mu_l.set_xticklabels(mu_l.get_xticklabels(), rotation=90)"
   ]
  },
  {
   "cell_type": "code",
   "execution_count": 20,
   "metadata": {},
   "outputs": [
    {
     "data": {
      "image/png": "[encoded data removed]",
      "text/plain": [
       "<Figure size 432x288 with 1 Axes>"
      ]
     },
     "metadata": {
      "needs_background": "light"
     },
     "output_type": "display_data"
    }
   ],
   "source": [
    "tot_w = sns.barplot(x = tot[\"season\"], y = tot[\"wins\"], data = pl2, palette = sns.light_palette((210, 90, 60), input=\"husl\"))\n",
    "tot_w.set_title(\"Tottenham wins per season\")\n",
    "ars_l.set_xticklabels(tot_w.get_xticklabels(), rotation=90)\n",
    "_ = tot_w.set_xticklabels(tot_w.get_xticklabels(), rotation=90)"
   ]
  },
  {
   "cell_type": "code",
   "execution_count": 21,
   "metadata": {},
   "outputs": [
    {
     "data": {
      "image/png": "[encoded data removed]",
      "text/plain": [
       "<Figure size 432x288 with 1 Axes>"
      ]
     },
     "metadata": {
      "needs_background": "light"
     },
     "output_type": "display_data"
    }
   ],
   "source": [
    "tot_l = sns.barplot(x = tot[\"season\"], y = tot[\"losses\"], data = pl2, palette = sns.light_palette((210, 90, 60), input=\"husl\"))\n",
    "tot_l.set_title(\"Tottenham losses per season\")\n",
    "tot_l.set_xticklabels(tot_l.get_xticklabels(), rotation=90)\n",
    "_ = tot_l.set_xticklabels(tot_l.get_xticklabels(), rotation=90)"
   ]
  },
  {
   "cell_type": "code",
   "execution_count": 22,
   "metadata": {},
   "outputs": [
    {
     "data": {
      "image/png": "[encoded data removed]",
      "text/plain": [
       "<Figure size 432x288 with 1 Axes>"
      ]
     },
     "metadata": {
      "needs_background": "light"
     },
     "output_type": "display_data"
    }
   ],
   "source": [
    "liv_w = sns.barplot(x = liv[\"season\"], y = liv[\"wins\"], data = pl2, palette = sns.light_palette(\"red\", reverse=False))\n",
    "liv_w.set_title(\"Liverpool wins per season\")\n",
    "liv_w.set_xticklabels(liv_w.get_xticklabels(), rotation=90)\n",
    "_ = liv_w.set_xticklabels(liv_w.get_xticklabels(), rotation=90)"
   ]
  },
  {
   "cell_type": "code",
   "execution_count": 23,
   "metadata": {},
   "outputs": [
    {
     "data": {
      "image/png": "[encoded data removed]",
      "text/plain": [
       "<Figure size 432x288 with 1 Axes>"
      ]
     },
     "metadata": {
      "needs_background": "light"
     },
     "output_type": "display_data"
    }
   ],
   "source": [
    "liv_l = sns.barplot(x = liv[\"season\"], y = liv[\"losses\"], data = pl2, palette = sns.light_palette(\"red\", reverse=False))\n",
    "liv_l.set_title(\"Liverpool losses per season\")\n",
    "liv_l.set_xticklabels(liv_l.get_xticklabels(), rotation=90)\n",
    "_ = liv_l.set_xticklabels(liv_l.get_xticklabels(), rotation=90)"
   ]
  },
  {
   "cell_type": "code",
   "execution_count": 24,
   "metadata": {},
   "outputs": [],
   "source": [
    "seasons = []\n",
    "for i in ars[\"season\"]:\n",
    "    seasons.append(i)"
   ]
  },
  {
   "cell_type": "code",
   "execution_count": 25,
   "metadata": {},
   "outputs": [],
   "source": [
    "ars.set_index(\"season\", inplace = True)"
   ]
  },
  {
   "cell_type": "code",
   "execution_count": 26,
   "metadata": {},
   "outputs": [],
   "source": [
    "ars_p = dict()\n",
    "for i in seasons:\n",
    "    ars_p[i] = ((3 * ars.loc[i, \"wins\"] + (38- ars.loc[i, \"wins\"] - ars.loc[i, \"losses\"])))"
   ]
  },
  {
   "cell_type": "code",
   "execution_count": 27,
   "metadata": {},
   "outputs": [
    {
     "data": {
      "text/plain": [
       "dict_keys(['2006-2007', '2007-2008', '2008-2009', '2009-2010', '2010-2011', '2011-2012', '2012-2013', '2013-2014', '2014-2015', '2015-2016', '2016-2017', '2017-2018'])"
      ]
     },
     "execution_count": 27,
     "metadata": {},
     "output_type": "execute_result"
    }
   ],
   "source": [
    "ars_p.keys()"
   ]
  },
  {
   "cell_type": "code",
   "execution_count": 28,
   "metadata": {},
   "outputs": [],
   "source": [
    "ars[\"points\"] = (ars_p.values())"
   ]
  },
  {
   "cell_type": "code",
   "execution_count": 29,
   "metadata": {},
   "outputs": [
    {
     "data": {
      "image/png": "[encoded data removed]",
      "text/plain": [
       "<Figure size 432x288 with 1 Axes>"
      ]
     },
     "metadata": {
      "needs_background": "light"
     },
     "output_type": "display_data"
    }
   ],
   "source": [
    "ars_points = sns.barplot(x = seasons, y = ars[\"points\"], data = ars, palette = sns.light_palette(\"red\", reverse=False))\n",
    "ars_points.set_title(\"Arsenal points per season\")\n",
    "ars_points.set_xticklabels(ars_points.get_xticklabels(), rotation=90)\n",
    "_ = ars_points.set_xticklabels(ars_points.get_xticklabels(), rotation=90)"
   ]
  },
  {
   "cell_type": "code",
   "execution_count": 30,
   "metadata": {},
   "outputs": [],
   "source": [
    "che.set_index(\"season\", inplace = True)"
   ]
  },
  {
   "cell_type": "code",
   "execution_count": 31,
   "metadata": {},
   "outputs": [],
   "source": [
    "che_p = dict()\n",
    "for i in seasons:\n",
    "    che_p[i] = ((3 * che.loc[i, \"wins\"] + (38- che.loc[i, \"wins\"] - che.loc[i, \"losses\"])))\n",
    "che[\"points\"] = (che_p.values())"
   ]
  },
  {
   "cell_type": "code",
   "execution_count": 32,
   "metadata": {},
   "outputs": [
    {
     "data": {
      "image/png": "[encoded data removed]",
      "text/plain": [
       "<Figure size 432x288 with 1 Axes>"
      ]
     },
     "metadata": {
      "needs_background": "light"
     },
     "output_type": "display_data"
    }
   ],
   "source": [
    "che_points = sns.barplot(x = seasons, y = che[\"points\"], data = che, palette = sns.dark_palette(\"blue\", reverse=False))\n",
    "che_points.set_title(\"Chelsea points per season\")\n",
    "che_points.set_xticklabels(che_points.get_xticklabels(), rotation=90)\n",
    "_ = che_points.set_xticklabels(che_points.get_xticklabels(), rotation=90)"
   ]
  },
  {
   "cell_type": "code",
   "execution_count": 33,
   "metadata": {},
   "outputs": [],
   "source": [
    "mc.set_index(\"season\", inplace = True)\n",
    "mc_p = dict()\n",
    "for i in seasons:\n",
    "    mc_p[i] = ((3 * mc.loc[i, \"wins\"] + (38- mc.loc[i, \"wins\"] - mc.loc[i, \"losses\"])))\n",
    "mc[\"points\"] = (mc_p.values())"
   ]
  },
  {
   "cell_type": "code",
   "execution_count": 34,
   "metadata": {},
   "outputs": [
    {
     "data": {
      "image/png": "[encoded data removed]",
      "text/plain": [
       "<Figure size 432x288 with 1 Axes>"
      ]
     },
     "metadata": {
      "needs_background": "light"
     },
     "output_type": "display_data"
    }
   ],
   "source": [
    "mc_points = sns.barplot(x = seasons, y = mc[\"points\"], data = mc, palette = sns.light_palette(\"blue\", reverse=False))\n",
    "mc_points.set_title(\"Manchester City points per season\")\n",
    "mc_points.set_xticklabels(mc_points.get_xticklabels(), rotation=90)\n",
    "_ = mc_points.set_xticklabels(mc_points.get_xticklabels(), rotation=90)"
   ]
  },
  {
   "cell_type": "code",
   "execution_count": 35,
   "metadata": {},
   "outputs": [],
   "source": [
    "mu.set_index(\"season\", inplace = True)\n",
    "mu_p = dict()\n",
    "for i in seasons:\n",
    "    mu_p[i] = ((3 * mu.loc[i, \"wins\"] + (38- mu.loc[i, \"wins\"] - mu.loc[i, \"losses\"])))\n",
    "mu[\"points\"] = (mu_p.values())"
   ]
  },
  {
   "cell_type": "code",
   "execution_count": 36,
   "metadata": {},
   "outputs": [
    {
     "data": {
      "image/png": "[encoded data removed]",
      "text/plain": [
       "<Figure size 432x288 with 1 Axes>"
      ]
     },
     "metadata": {
      "needs_background": "light"
     },
     "output_type": "display_data"
    }
   ],
   "source": [
    "mu_points = sns.barplot(x = seasons, y = mu[\"points\"], data = mu, palette = sns.light_palette(\"red\", reverse=True))\n",
    "mu_points.set_title(\"Manchester United points per season\")\n",
    "mu_points.set_xticklabels(mu_points.get_xticklabels(), rotation=90)\n",
    "_ = mu_points.set_xticklabels(mu_points.get_xticklabels(), rotation=90)"
   ]
  },
  {
   "cell_type": "code",
   "execution_count": 37,
   "metadata": {},
   "outputs": [],
   "source": [
    "tot.set_index(\"season\", inplace = True)\n",
    "tot_p = dict()\n",
    "for i in seasons:\n",
    "    tot_p[i] = ((3 * tot.loc[i, \"wins\"] + (38- tot.loc[i, \"wins\"] - tot.loc[i, \"losses\"])))\n",
    "tot[\"points\"] = (tot_p.values())"
   ]
  },
  {
   "cell_type": "code",
   "execution_count": 38,
   "metadata": {},
   "outputs": [
    {
     "data": {
      "image/png": "[encoded data removed]",
      "text/plain": [
       "<Figure size 432x288 with 1 Axes>"
      ]
     },
     "metadata": {
      "needs_background": "light"
     },
     "output_type": "display_data"
    }
   ],
   "source": [
    "tot_points = sns.barplot(x = seasons, y = tot[\"points\"], data = tot, palette = sns.light_palette((210, 90, 60), input=\"husl\"))\n",
    "tot_points.set_title(\"Tottenham points per season\")\n",
    "tot_points.set_xticklabels(tot_points.get_xticklabels(), rotation=90)\n",
    "_ = tot_points.set_xticklabels(mu_points.get_xticklabels(), rotation=90)"
   ]
  },
  {
   "cell_type": "code",
   "execution_count": 39,
   "metadata": {},
   "outputs": [],
   "source": [
    "liv.set_index(\"season\", inplace = True)\n",
    "liv_p = dict()\n",
    "for i in seasons:\n",
    "    liv_p[i] = ((3 * liv.loc[i, \"wins\"] + (38- liv.loc[i, \"wins\"] - liv.loc[i, \"losses\"])))\n",
    "liv[\"points\"] = (liv_p.values())"
   ]
  },
  {
   "cell_type": "code",
   "execution_count": 40,
   "metadata": {},
   "outputs": [
    {
     "data": {
      "image/png": "[encoded data removed]",
      "text/plain": [
       "<Figure size 432x288 with 1 Axes>"
      ]
     },
     "metadata": {
      "needs_background": "light"
     },
     "output_type": "display_data"
    }
   ],
   "source": [
    "liv_points = sns.barplot(x = seasons, y = liv[\"points\"], data = liv, palette = sns.light_palette(\"red\", reverse=False))\n",
    "liv_points.set_title(\"Liverpool points per season\")\n",
    "liv_points.set_xticklabels(liv_points.get_xticklabels(), rotation=90)\n",
    "_ = liv_points.set_xticklabels(liv_points.get_xticklabels(), rotation=90)"
   ]
  }
 ],
 "metadata": {
  "kernelspec": {
   "display_name": "Python 3",
   "language": "python",
   "name": "python3"
  },
  "language_info": {
   "codemirror_mode": {
    "name": "ipython",
    "version": 3
   },
   "file_extension": ".py",
   "mimetype": "text/x-python",
   "name": "python",
   "nbconvert_exporter": "python",
   "pygments_lexer": "ipython3",
   "version": "3.7.4"
  }
 },
 "nbformat": 4,
 "nbformat_minor": 2
}
